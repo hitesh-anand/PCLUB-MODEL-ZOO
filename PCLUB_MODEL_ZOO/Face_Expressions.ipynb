{
 "cells": [
  {
   "cell_type": "markdown",
   "metadata": {
    "colab_type": "text",
    "id": "3DR-eO17geWu"
   },
   "source": [
    "# Convolutional Neural Network"
   ]
  },
  {
   "cell_type": "markdown",
   "metadata": {
    "colab_type": "text",
    "id": "EMefrVPCg-60"
   },
   "source": [
    "### Importing the libraries"
   ]
  },
  {
   "cell_type": "code",
   "execution_count": 2,
   "metadata": {
    "colab": {},
    "colab_type": "code",
    "id": "sCV30xyVhFbE"
   },
   "outputs": [],
   "source": [
    "import tensorflow as tf\n",
    "from keras.preprocessing.image import ImageDataGenerator"
   ]
  },
  {
   "cell_type": "code",
   "execution_count": 2,
   "metadata": {
    "colab": {},
    "colab_type": "code",
    "id": "FIleuCAjoFD8"
   },
   "outputs": [
    {
     "data": {
      "text/plain": [
       "'2.4.1'"
      ]
     },
     "execution_count": 2,
     "metadata": {},
     "output_type": "execute_result"
    }
   ],
   "source": [
    "tf.__version__"
   ]
  },
  {
   "cell_type": "markdown",
   "metadata": {
    "colab_type": "text",
    "id": "oxQxCBWyoGPE"
   },
   "source": [
    "## Part 1 - Data Preprocessing"
   ]
  },
  {
   "cell_type": "markdown",
   "metadata": {
    "colab_type": "text",
    "id": "MvE-heJNo3GG"
   },
   "source": [
    "### Preprocessing the Training set"
   ]
  },
  {
   "cell_type": "code",
   "execution_count": 3,
   "metadata": {
    "colab": {},
    "colab_type": "code",
    "id": "0koUcJMJpEBD"
   },
   "outputs": [
    {
     "name": "stdout",
     "output_type": "stream",
     "text": [
      "Found 28515 images belonging to 7 classes.\n"
     ]
    }
   ],
   "source": [
    "train_datagen = ImageDataGenerator(rescale = 1./255,\n",
    "                                   shear_range = 0.2,\n",
    "                                   zoom_range = 0.2,\n",
    "                                   horizontal_flip = True)\n",
    "training_set = train_datagen.flow_from_directory('dataset/images/train',\n",
    "                                                 target_size = (64, 64),\n",
    "                                                 batch_size = 32,\n",
    "                                                 class_mode = 'categorical')"
   ]
  },
  {
   "cell_type": "markdown",
   "metadata": {
    "colab_type": "text",
    "id": "mrCMmGw9pHys"
   },
   "source": [
    "### Preprocessing the Test set"
   ]
  },
  {
   "cell_type": "code",
   "execution_count": 4,
   "metadata": {
    "colab": {},
    "colab_type": "code",
    "id": "SH4WzfOhpKc3"
   },
   "outputs": [
    {
     "name": "stdout",
     "output_type": "stream",
     "text": [
      "Found 7066 images belonging to 7 classes.\n"
     ]
    }
   ],
   "source": [
    "test_datagen = ImageDataGenerator(rescale = 1./255)\n",
    "test_set = test_datagen.flow_from_directory('dataset/images/validation',\n",
    "                                            target_size = (64, 64),\n",
    "                                            batch_size = 32,\n",
    "                                            class_mode = 'categorical')"
   ]
  },
  {
   "cell_type": "markdown",
   "metadata": {
    "colab_type": "text",
    "id": "af8O4l90gk7B"
   },
   "source": [
    "## Part 2 - Building the CNN"
   ]
  },
  {
   "cell_type": "markdown",
   "metadata": {
    "colab_type": "text",
    "id": "ces1gXY2lmoX"
   },
   "source": [
    "### Initialising the CNN"
   ]
  },
  {
   "cell_type": "code",
   "execution_count": 5,
   "metadata": {
    "colab": {},
    "colab_type": "code",
    "id": "SAUt4UMPlhLS"
   },
   "outputs": [],
   "source": [
    "cnn = tf.keras.models.Sequential()"
   ]
  },
  {
   "cell_type": "markdown",
   "metadata": {
    "colab_type": "text",
    "id": "u5YJj_XMl5LF"
   },
   "source": [
    "### Step 1 - Convolution"
   ]
  },
  {
   "cell_type": "code",
   "execution_count": 6,
   "metadata": {
    "colab": {},
    "colab_type": "code",
    "id": "XPzPrMckl-hV"
   },
   "outputs": [],
   "source": [
    "cnn.add(tf.keras.layers.Conv2D(filters=32, kernel_size=3, activation='relu', input_shape=[64, 64, 3]))"
   ]
  },
  {
   "cell_type": "markdown",
   "metadata": {
    "colab_type": "text",
    "id": "tf87FpvxmNOJ"
   },
   "source": [
    "### Step 2 - Pooling"
   ]
  },
  {
   "cell_type": "code",
   "execution_count": 7,
   "metadata": {
    "colab": {},
    "colab_type": "code",
    "id": "ncpqPl69mOac"
   },
   "outputs": [],
   "source": [
    "cnn.add(tf.keras.layers.MaxPool2D(pool_size=2, strides=2))"
   ]
  },
  {
   "cell_type": "markdown",
   "metadata": {
    "colab_type": "text",
    "id": "xaTOgD8rm4mU"
   },
   "source": [
    "### Adding a second convolutional layer"
   ]
  },
  {
   "cell_type": "code",
   "execution_count": 8,
   "metadata": {
    "colab": {},
    "colab_type": "code",
    "id": "i_-FZjn_m8gk"
   },
   "outputs": [],
   "source": [
    "cnn.add(tf.keras.layers.Conv2D(filters=32, kernel_size=3, activation='relu'))\n",
    "cnn.add(tf.keras.layers.MaxPool2D(pool_size=2, strides=2))"
   ]
  },
  {
   "cell_type": "markdown",
   "metadata": {
    "colab_type": "text",
    "id": "tmiEuvTunKfk"
   },
   "source": [
    "### Step 3 - Flattening"
   ]
  },
  {
   "cell_type": "code",
   "execution_count": 9,
   "metadata": {
    "colab": {},
    "colab_type": "code",
    "id": "6AZeOGCvnNZn"
   },
   "outputs": [],
   "source": [
    "cnn.add(tf.keras.layers.Flatten())"
   ]
  },
  {
   "cell_type": "markdown",
   "metadata": {
    "colab_type": "text",
    "id": "dAoSECOm203v"
   },
   "source": [
    "### Step 4 - Full Connection"
   ]
  },
  {
   "cell_type": "code",
   "execution_count": 10,
   "metadata": {
    "colab": {},
    "colab_type": "code",
    "id": "8GtmUlLd26Nq"
   },
   "outputs": [],
   "source": [
    "cnn.add(tf.keras.layers.Dense(units=128, activation='relu'))"
   ]
  },
  {
   "cell_type": "markdown",
   "metadata": {
    "colab_type": "text",
    "id": "yTldFvbX28Na"
   },
   "source": [
    "### Step 5 - Output Layer"
   ]
  },
  {
   "cell_type": "code",
   "execution_count": 11,
   "metadata": {
    "colab": {},
    "colab_type": "code",
    "id": "1p_Zj1Mc3Ko_"
   },
   "outputs": [],
   "source": [
    "cnn.add(tf.keras.layers.Dense(units=7, activation='sigmoid'))"
   ]
  },
  {
   "cell_type": "markdown",
   "metadata": {
    "colab_type": "text",
    "id": "D6XkI90snSDl"
   },
   "source": [
    "## Part 3 - Training the CNN"
   ]
  },
  {
   "cell_type": "markdown",
   "metadata": {
    "colab_type": "text",
    "id": "vfrFQACEnc6i"
   },
   "source": [
    "### Compiling the CNN"
   ]
  },
  {
   "cell_type": "code",
   "execution_count": 12,
   "metadata": {
    "colab": {},
    "colab_type": "code",
    "id": "NALksrNQpUlJ"
   },
   "outputs": [],
   "source": [
    "cnn.compile(optimizer = 'adam', loss = 'mse', metrics = ['accuracy'])"
   ]
  },
  {
   "cell_type": "markdown",
   "metadata": {
    "colab_type": "text",
    "id": "ehS-v3MIpX2h"
   },
   "source": [
    "### Training the CNN on the Training set and evaluating it on the Test set"
   ]
  },
  {
   "cell_type": "code",
   "execution_count": 13,
   "metadata": {
    "colab": {},
    "colab_type": "code",
    "id": "XUj1W4PJptta"
   },
   "outputs": [
    {
     "name": "stdout",
     "output_type": "stream",
     "text": [
      "Epoch 1/25\n",
      "892/892 [==============================] - 1236s 1s/step - loss: 0.1161 - accuracy: 0.3059 - val_loss: 0.1022 - val_accuracy: 0.4224\n",
      "Epoch 2/25\n",
      "892/892 [==============================] - 846s 949ms/step - loss: 0.1021 - accuracy: 0.4167 - val_loss: 0.0993 - val_accuracy: 0.4292\n",
      "Epoch 3/25\n",
      "892/892 [==============================] - 918s 1s/step - loss: 0.0978 - accuracy: 0.4424 - val_loss: 0.0937 - val_accuracy: 0.4758\n",
      "Epoch 4/25\n",
      "892/892 [==============================] - 808s 906ms/step - loss: 0.0943 - accuracy: 0.4653 - val_loss: 0.0911 - val_accuracy: 0.4914\n",
      "Epoch 5/25\n",
      "892/892 [==============================] - 757s 849ms/step - loss: 0.0916 - accuracy: 0.4911 - val_loss: 0.0889 - val_accuracy: 0.5008\n",
      "Epoch 6/25\n",
      "892/892 [==============================] - 456s 511ms/step - loss: 0.0902 - accuracy: 0.4964 - val_loss: 0.0907 - val_accuracy: 0.4887\n",
      "Epoch 7/25\n",
      "892/892 [==============================] - 189s 212ms/step - loss: 0.0894 - accuracy: 0.4999 - val_loss: 0.0881 - val_accuracy: 0.5105\n",
      "Epoch 8/25\n",
      "892/892 [==============================] - 106s 118ms/step - loss: 0.0871 - accuracy: 0.5254 - val_loss: 0.0875 - val_accuracy: 0.5139\n",
      "Epoch 9/25\n",
      "892/892 [==============================] - 108s 121ms/step - loss: 0.0854 - accuracy: 0.5346 - val_loss: 0.0867 - val_accuracy: 0.5228\n",
      "Epoch 10/25\n",
      "892/892 [==============================] - 453s 508ms/step - loss: 0.0838 - accuracy: 0.5428 - val_loss: 0.0864 - val_accuracy: 0.5249\n",
      "Epoch 11/25\n",
      "892/892 [==============================] - 103s 116ms/step - loss: 0.0828 - accuracy: 0.5508 - val_loss: 0.0856 - val_accuracy: 0.5269\n",
      "Epoch 12/25\n",
      "892/892 [==============================] - 107s 119ms/step - loss: 0.0816 - accuracy: 0.5618 - val_loss: 0.0874 - val_accuracy: 0.5234\n",
      "Epoch 13/25\n",
      "892/892 [==============================] - 183s 205ms/step - loss: 0.0804 - accuracy: 0.5693 - val_loss: 0.0871 - val_accuracy: 0.5221\n",
      "Epoch 14/25\n",
      "892/892 [==============================] - 474s 532ms/step - loss: 0.0801 - accuracy: 0.5695 - val_loss: 0.0862 - val_accuracy: 0.5314\n",
      "Epoch 15/25\n",
      "892/892 [==============================] - 298s 334ms/step - loss: 0.0795 - accuracy: 0.5816 - val_loss: 0.0850 - val_accuracy: 0.5422\n",
      "Epoch 16/25\n",
      "892/892 [==============================] - 107s 120ms/step - loss: 0.0787 - accuracy: 0.5847 - val_loss: 0.0855 - val_accuracy: 0.5393\n",
      "Epoch 17/25\n",
      "892/892 [==============================] - 108s 121ms/step - loss: 0.0770 - accuracy: 0.5928 - val_loss: 0.0840 - val_accuracy: 0.5484\n",
      "Epoch 18/25\n",
      "892/892 [==============================] - 106s 119ms/step - loss: 0.0761 - accuracy: 0.5970 - val_loss: 0.0842 - val_accuracy: 0.5484\n",
      "Epoch 19/25\n",
      "892/892 [==============================] - 106s 119ms/step - loss: 0.0765 - accuracy: 0.5955 - val_loss: 0.0848 - val_accuracy: 0.5476\n",
      "Epoch 20/25\n",
      "892/892 [==============================] - 107s 120ms/step - loss: 0.0752 - accuracy: 0.6069 - val_loss: 0.0851 - val_accuracy: 0.5426\n",
      "Epoch 21/25\n",
      "892/892 [==============================] - 107s 119ms/step - loss: 0.0747 - accuracy: 0.6116 - val_loss: 0.0847 - val_accuracy: 0.5477\n",
      "Epoch 22/25\n",
      "892/892 [==============================] - 107s 120ms/step - loss: 0.0741 - accuracy: 0.6164 - val_loss: 0.0842 - val_accuracy: 0.5559\n",
      "Epoch 23/25\n",
      "892/892 [==============================] - 107s 119ms/step - loss: 0.0726 - accuracy: 0.6268 - val_loss: 0.0864 - val_accuracy: 0.5416\n",
      "Epoch 24/25\n",
      "892/892 [==============================] - 108s 121ms/step - loss: 0.0730 - accuracy: 0.6225 - val_loss: 0.0846 - val_accuracy: 0.5509\n",
      "Epoch 25/25\n",
      "892/892 [==============================] - 213s 239ms/step - loss: 0.0709 - accuracy: 0.6395 - val_loss: 0.0842 - val_accuracy: 0.5525\n"
     ]
    },
    {
     "data": {
      "text/plain": [
       "<tensorflow.python.keras.callbacks.History at 0x2822eb65b20>"
      ]
     },
     "execution_count": 13,
     "metadata": {},
     "output_type": "execute_result"
    }
   ],
   "source": [
    "cnn.fit(x = training_set, validation_data = test_set, epochs = 25)"
   ]
  },
  {
   "cell_type": "markdown",
   "metadata": {
    "colab_type": "text",
    "id": "U3PZasO0006Z"
   },
   "source": [
    "## Part 4 - Making a single prediction"
   ]
  },
  {
   "cell_type": "code",
   "execution_count": 43,
   "metadata": {
    "colab": {},
    "colab_type": "code",
    "id": "gsSiWEJY1BPB"
   },
   "outputs": [
    {
     "name": "stdout",
     "output_type": "stream",
     "text": [
      "happy\n"
     ]
    }
   ],
   "source": [
    "import numpy as np\n",
    "from keras.preprocessing import image\n",
    "\n",
    "test_image = image.load_img('dataset/images/train/happy/218.jpg', target_size = (64, 64))\n",
    "test_image = image.img_to_array(test_image)\n",
    "test_image = np.expand_dims(test_image, axis = 0)\n",
    "result = cnn.predict(test_image)\n",
    "training_set.class_indices\n",
    "\n",
    "\n",
    "val = np.where(result == np.amax(result))[1][0]\n",
    "str=[]\n",
    "\n",
    "if val==0:\n",
    "    str = \"angry\"\n",
    "elif val==1:\n",
    "    str = \"disgust\"\n",
    "elif val==2:\n",
    "    str = \"fear\"\n",
    "elif val==3:\n",
    "    str = \"happy\"\n",
    "elif val==4:\n",
    "    str = \"neutral\"\n",
    "elif val==5:\n",
    "    str = \"sad\"\n",
    "elif val==6:\n",
    "    str = \"surprise\"\n",
    "print(str)\n"
   ]
  },
  {
   "cell_type": "code",
   "execution_count": null,
   "metadata": {
    "colab": {},
    "colab_type": "code",
    "id": "ED9KB3I54c1i"
   },
   "outputs": [],
   "source": []
  },
  {
   "cell_type": "code",
   "execution_count": null,
   "metadata": {},
   "outputs": [],
   "source": []
  }
 ],
 "metadata": {
  "colab": {
   "collapsed_sections": [],
   "name": "convolutional_neural_network.ipynb",
   "provenance": [],
   "toc_visible": true
  },
  "kernelspec": {
   "display_name": "Python 3",
   "language": "python",
   "name": "python3"
  },
  "language_info": {
   "codemirror_mode": {
    "name": "ipython",
    "version": 3
   },
   "file_extension": ".py",
   "mimetype": "text/x-python",
   "name": "python",
   "nbconvert_exporter": "python",
   "pygments_lexer": "ipython3",
   "version": "3.8.5"
  }
 },
 "nbformat": 4,
 "nbformat_minor": 1
}
